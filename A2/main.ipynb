{
 "cells": [
  {
   "cell_type": "code",
   "execution_count": 13,
   "id": "initial_id",
   "metadata": {
    "collapsed": true,
    "ExecuteTime": {
     "end_time": "2025-03-18T07:46:42.228905800Z",
     "start_time": "2025-03-18T07:46:42.174179200Z"
    }
   },
   "outputs": [],
   "source": [
    "%matplotlib inline\n",
    "import torch\n",
    "import torch.nn as nn\n",
    "import torch.optim as optim\n",
    "from torchvision import datasets, transforms\n",
    "import matplotlib.pyplot as plt\n",
    "import os\n",
    "os.environ['KMP_DUPLICATE_LIB_OK']='True'\n",
    "# 1. Data Loading: Download and preprocess MNIST\n",
    "transform = transforms.Compose([\n",
    "    transforms.ToTensor(),\n",
    "    transforms.Normalize((0.5,), (0.5,))\n",
    "])\n",
    "train_dataset = datasets.MNIST(root='./data', train=True, download=True, transform=transform)\n",
    "test_dataset = datasets.MNIST(root='./data', train=False, download=True, transform=transform)\n",
    "train_loader = torch.utils.data.DataLoader(dataset=train_dataset, batch_size=64, shuffle=True)\n",
    "test_loader = torch.utils.data.DataLoader(dataset=test_dataset, batch_size=64, shuffle=False)\n"
   ]
  },
  {
   "cell_type": "code",
   "execution_count": 14,
   "outputs": [],
   "source": [
    "# 2. Model Implementation\n",
    "# Logistic Regression (single linear layer)\n",
    "class LogisticRegression(nn.Module):\n",
    "    def __init__(self, input_dim, output_dim):\n",
    "        super(LogisticRegression, self).__init__()\n",
    "        self.linear = nn.Linear(input_dim, output_dim)\n",
    "    def forward(self, x):\n",
    "        return self.linear(x)\n",
    "\n",
    "# MLP (one hidden layer)\n",
    "class MLP(nn.Module):\n",
    "    def __init__(self, input_dim, hidden_dim, output_dim):\n",
    "        super(MLP, self).__init__()\n",
    "        self.fc1 = nn.Linear(input_dim, hidden_dim)\n",
    "        self.relu = nn.ReLU()\n",
    "        self.fc2 = nn.Linear(hidden_dim, output_dim)\n",
    "    def forward(self, x):\n",
    "        x = self.fc1(x)\n",
    "        x = self.relu(x)\n",
    "        return self.fc2(x)"
   ],
   "metadata": {
    "collapsed": false,
    "ExecuteTime": {
     "end_time": "2025-03-18T07:46:42.236879700Z",
     "start_time": "2025-03-18T07:46:42.201303300Z"
    }
   },
   "id": "c3f9dba36488e5c3"
  },
  {
   "cell_type": "code",
   "execution_count": 15,
   "outputs": [
    {
     "name": "stdout",
     "output_type": "stream",
     "text": [
      "Using device: cuda\n"
     ]
    }
   ],
   "source": [
    "# 3. Training Module\n",
    "device = torch.device(\"cuda\" if torch.cuda.is_available() else \"cpu\")\n",
    "print(f\"Using device: {device}\")\n",
    "def train_model(model, train_loader, criterion, optimizer, num_epochs=10):\n",
    "    model.train()\n",
    "    losses = []\n",
    "    for epoch in range(num_epochs):\n",
    "        epoch_loss = 0.0\n",
    "        for images, labels in train_loader:\n",
    "            images, labels = images.view(-1, 28*28).to(device), labels.to(device)\n",
    "            outputs = model(images)\n",
    "            loss = criterion(outputs, labels)\n",
    "            optimizer.zero_grad()\n",
    "            loss.backward()\n",
    "            optimizer.step()\n",
    "            epoch_loss += loss.item()\n",
    "        avg_loss = epoch_loss / len(train_loader)\n",
    "        losses.append(avg_loss)\n",
    "        print(f'Epoch [{epoch+1}/{num_epochs}], Loss: {avg_loss:.4f}')\n",
    "    return losses\n"
   ],
   "metadata": {
    "collapsed": false,
    "ExecuteTime": {
     "end_time": "2025-03-18T07:46:42.238503300Z",
     "start_time": "2025-03-18T07:46:42.220305700Z"
    }
   },
   "id": "dc7e88e1fcdbee08"
  },
  {
   "cell_type": "code",
   "execution_count": 16,
   "outputs": [],
   "source": [
    "# 4. Testing Module\n",
    "def model_test(model, test_loader):\n",
    "    model.eval()\n",
    "    correct = 0\n",
    "    total = 0\n",
    "    with torch.no_grad():\n",
    "        for images, labels in test_loader:\n",
    "            images, labels = images.view(-1, 28*28).to(device), labels.to(device)\n",
    "            outputs = model(images)\n",
    "            _, predicted = torch.max(outputs.data, 1)\n",
    "            total += labels.size(0)\n",
    "            correct += (predicted == labels).sum().item()\n",
    "    accuracy = 100 * correct / total\n",
    "    print(f'Model Accuracy on Test Set: {accuracy:.2f}%')\n",
    "    return accuracy"
   ],
   "metadata": {
    "collapsed": false,
    "ExecuteTime": {
     "end_time": "2025-03-18T07:46:42.279940500Z",
     "start_time": "2025-03-18T07:46:42.231602500Z"
    }
   },
   "id": "15a831e80dfe23f2"
  },
  {
   "cell_type": "code",
   "execution_count": 17,
   "outputs": [
    {
     "name": "stdout",
     "output_type": "stream",
     "text": [
      "Training Logistic Regression Model:\n",
      "Epoch [1/10], Loss: 0.6770\n",
      "Epoch [2/10], Loss: 0.3826\n",
      "Epoch [3/10], Loss: 0.3629\n",
      "Epoch [4/10], Loss: 0.3444\n",
      "Epoch [5/10], Loss: 0.3385\n",
      "Epoch [6/10], Loss: 0.3310\n",
      "Epoch [7/10], Loss: 0.3301\n",
      "Epoch [8/10], Loss: 0.3235\n",
      "Epoch [9/10], Loss: 0.3225\n",
      "Epoch [10/10], Loss: 0.3239\n",
      "\n",
      "Training MLP Model:\n",
      "Epoch [1/10], Loss: 0.3782\n",
      "Epoch [2/10], Loss: 0.1951\n",
      "Epoch [3/10], Loss: 0.1396\n",
      "Epoch [4/10], Loss: 0.1109\n",
      "Epoch [5/10], Loss: 0.0971\n",
      "Epoch [6/10], Loss: 0.0849\n",
      "Epoch [7/10], Loss: 0.0763\n",
      "Epoch [8/10], Loss: 0.0689\n",
      "Epoch [9/10], Loss: 0.0617\n",
      "Epoch [10/10], Loss: 0.0587\n",
      "\n",
      "Testing Logistic Regression Model:\n",
      "Model Accuracy on Test Set: 91.32%\n",
      "\n",
      "Testing MLP Model:\n",
      "Model Accuracy on Test Set: 97.35%\n"
     ]
    }
   ],
   "source": [
    "# Main Function\n",
    "input_dim, output_dim, hidden_dim, num_epochs = 28*28, 10, 128, 10\n",
    "criterion = nn.CrossEntropyLoss()\n",
    "\n",
    "# Train Logistic Regression\n",
    "model_lr = LogisticRegression(input_dim, output_dim).to(device)\n",
    "optimizer_lr = optim.SGD(model_lr.parameters(), lr=0.1)\n",
    "print(\"Training Logistic Regression Model:\")\n",
    "losses_lr = train_model(model_lr, train_loader, criterion, optimizer_lr, num_epochs=num_epochs)\n",
    "\n",
    "# Train MLP\n",
    "model_mlp = MLP(input_dim, hidden_dim, output_dim).to(device)\n",
    "optimizer_mlp = optim.Adam(model_mlp.parameters(), lr=0.001)\n",
    "print(\"\\nTraining MLP Model:\")\n",
    "losses_mlp = train_model(model_mlp, train_loader, criterion, optimizer_mlp, num_epochs=num_epochs)\n",
    "\n",
    "# Test both models\n",
    "print(\"\\nTesting Logistic Regression Model:\")\n",
    "accuracy_lr = model_test(model_lr, test_loader)\n",
    "print(\"\\nTesting MLP Model:\")\n",
    "accuracy_mlp = model_test(model_mlp, test_loader)\n"
   ],
   "metadata": {
    "collapsed": false,
    "ExecuteTime": {
     "end_time": "2025-03-18T07:49:43.510910800Z",
     "start_time": "2025-03-18T07:46:42.247067200Z"
    }
   },
   "id": "345b9afbe1c961ed"
  },
  {
   "cell_type": "code",
   "execution_count": 18,
   "outputs": [
    {
     "data": {
      "text/plain": "<Figure size 576x432 with 1 Axes>",
      "image/png": "[encoded data removed]"
     },
     "metadata": {
      "needs_background": "light"
     },
     "output_type": "display_data"
    }
   ],
   "source": [
    "# 4. Plot Training Loss Curve\n",
    "plt.figure(figsize=(8, 6))\n",
    "plt.plot(range(1, num_epochs+1), losses_lr, marker='o', label='Logistic Regression')\n",
    "plt.plot(range(1, num_epochs+1), losses_mlp, marker='o', label='MLP')\n",
    "plt.xlabel('Epoch')\n",
    "plt.ylabel('Loss')\n",
    "plt.title('Training Loss Curve')\n",
    "plt.legend()\n",
    "plt.grid(True)\n",
    "plt.show()\n",
    "plt.close()"
   ],
   "metadata": {
    "collapsed": false,
    "ExecuteTime": {
     "end_time": "2025-03-18T07:49:43.682983300Z",
     "start_time": "2025-03-18T07:49:43.510910800Z"
    }
   },
   "id": "e4e9e57c075bc8f6"
  },
  {
   "cell_type": "markdown",
   "source": [
    "# Discussion and Conclusion\n",
    "The Logistic Regression model converges to an average loss between 0.3 and 0.35 after training, achieving an accuracy around 88–92% on the test set. In contrast, the MLP model—with its non-linear hidden layer—reduces its loss to less than 0.1 and typically reaches test accuracies of 96–98%.\n",
    "\n",
    "Although Logistic Regression trains quickly due to its simplicity, its linear nature limits its performance on complex data such as MNIST. The MLP, despite having a longer training time due to more parameters and non-linearities, better captures the intricate features of handwritten digits.\n",
    "\n",
    "Further improvements might include hyperparameter tuning (e.g., adjusting learning rate or batch size), increasing the network depth, or employing convolutional neural networks (CNNs) to better exploit spatial information."
   ],
   "metadata": {
    "collapsed": false
   },
   "id": "79ede9ce3818fd1c"
  },
  {
   "cell_type": "code",
   "execution_count": 18,
   "outputs": [],
   "source": [],
   "metadata": {
    "collapsed": false,
    "ExecuteTime": {
     "end_time": "2025-03-18T07:49:43.724591500Z",
     "start_time": "2025-03-18T07:49:43.678983500Z"
    }
   },
   "id": "79a715612349bbf2"
  }
 ],
 "metadata": {
  "kernelspec": {
   "display_name": "Python 3",
   "language": "python",
   "name": "python3"
  },
  "language_info": {
   "codemirror_mode": {
    "name": "ipython",
    "version": 2
   },
   "file_extension": ".py",
   "mimetype": "text/x-python",
   "name": "python",
   "nbconvert_exporter": "python",
   "pygments_lexer": "ipython2",
   "version": "2.7.6"
  }
 },
 "nbformat": 4,
 "nbformat_minor": 5
}
